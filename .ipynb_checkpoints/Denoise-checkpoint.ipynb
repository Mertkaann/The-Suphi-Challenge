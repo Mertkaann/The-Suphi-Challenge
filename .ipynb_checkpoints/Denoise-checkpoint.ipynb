{
 "cells": [
  {
   "cell_type": "code",
   "execution_count": 1,
   "metadata": {},
   "outputs": [],
   "source": [
    "import numpy as np\n",
    "from scipy.io import wavfile\n"
   ]
  },
  {
   "cell_type": "code",
   "execution_count": 3,
   "metadata": {},
   "outputs": [
    {
     "name": "stdout",
     "output_type": "stream",
     "text": [
      " Volume in drive C has no label.\n",
      " Volume Serial Number is 26D6-9026\n",
      "\n",
      " Directory of C:\\Users\\Mert\\Desktop\\The-Suphi-Challenge\n",
      "\n",
      "07.05.2020  01:45    <DIR>          .\n",
      "07.05.2020  01:45    <DIR>          ..\n",
      "07.05.2020  01:43    <DIR>          .ipynb_checkpoints\n",
      "07.05.2020  01:45               555 Denoise.ipynb\n",
      "07.05.2020  01:41                51 README.md\n",
      "25.04.2020  20:57         3.494.816 suphi_noise.wav\n",
      "07.05.2020  01:44         2.453.464 thesuphichallenge.zip\n",
      "               4 File(s)      5.948.886 bytes\n",
      "               3 Dir(s)  236.710.326.272 bytes free\n"
     ]
    }
   ],
   "source": []
  },
  {
   "cell_type": "code",
   "execution_count": null,
   "metadata": {},
   "outputs": [],
   "source": [
    "fs, data = wavfile.read('./suphi_noise.wav')"
   ]
  }
 ],
 "metadata": {
  "kernelspec": {
   "display_name": "Python 3",
   "language": "python",
   "name": "python3"
  },
  "language_info": {
   "codemirror_mode": {
    "name": "ipython",
    "version": 3
   },
   "file_extension": ".py",
   "mimetype": "text/x-python",
   "name": "python",
   "nbconvert_exporter": "python",
   "pygments_lexer": "ipython3",
   "version": "3.7.3"
  }
 },
 "nbformat": 4,
 "nbformat_minor": 2
}
